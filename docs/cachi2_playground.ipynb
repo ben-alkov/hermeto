{
 "cells": [
  {
   "cell_type": "code",
   "execution_count": 25,
   "metadata": {},
   "outputs": [
    {
     "name": "stdout",
     "output_type": "stream",
     "text": [
      "/home/balkov/Code/cachi2\n"
     ]
    },
    {
     "data": {
      "text/plain": [
       "'/home/balkov/Code/cachi2'"
      ]
     },
     "execution_count": 25,
     "metadata": {},
     "output_type": "execute_result"
    }
   ],
   "source": [
    "%cd \"/home/balkov/Code/cachi2\"\n",
    "%pwd\n"
   ]
  },
  {
   "cell_type": "code",
   "execution_count": 26,
   "metadata": {},
   "outputs": [],
   "source": [
    "from collections.abc import Iterable\n",
    "from pathlib import Path\n",
    "from typing import Callable\n",
    "\n",
    "from cachi2.core.models.input import Flag, PackageManagerType, Request, parse_user_input\n",
    "from cachi2.core.models.output import RequestOutput\n",
    "from cachi2.core.package_managers import gomod, npm, pip\n",
    "from cachi2.core.resolver import resolve_packages\n"
   ]
  },
  {
   "cell_type": "code",
   "execution_count": 27,
   "metadata": {},
   "outputs": [],
   "source": [
    "Handler = Callable[[Request], RequestOutput]\n",
    "\n",
    "_package_managers: dict[PackageManagerType, Handler] = {\n",
    "    \"gomod\": gomod.fetch_gomod_source,\n",
    "    \"npm\": npm.fetch_npm_source,\n",
    "    \"pip\": pip.fetch_pip_source,\n",
    "}\n",
    "\n",
    "supported_package_managers = list(_package_managers)\n"
   ]
  },
  {
   "cell_type": "code",
   "execution_count": 28,
   "metadata": {},
   "outputs": [],
   "source": [
    "dev_mode = False\n",
    "cgo_disable = False\n",
    "force_gomod_tidy = False\n",
    "gomod_vendor = False\n",
    "gomod_vendor_check = False\n",
    "\n",
    "\n",
    "def combine_option_and_json_flags(json_flags: list[Flag]) -> list[str]:\n",
    "    flag_names = [\"cgo-disable\", \"force-gomod-tidy\",\n",
    "                  \"gomod-vendor\", \"gomod-vendor-check\"]\n",
    "    flag_values = [cgo_disable, force_gomod_tidy,\n",
    "                   gomod_vendor, gomod_vendor_check]\n",
    "    flags = [name for name, value in zip(flag_names, flag_values) if value]\n",
    "\n",
    "    if json_flags:\n",
    "        flags.extend(flag.strip() for flag in json_flags)\n",
    "\n",
    "    return flags\n"
   ]
  },
  {
   "cell_type": "code",
   "execution_count": 29,
   "metadata": {},
   "outputs": [],
   "source": [
    "req = parse_user_input(\n",
    "    Request.parse_obj,\n",
    "    {\n",
    "        \"source_dir\": \"/home/balkov/Code/cachi2\",\n",
    "        \"output_dir\": \"/home/balkov/temp/cachi2\",\n",
    "        \"packages\": [{\n",
    "            \"type\": \"pip\",\n",
    "            \"path\": \".\",\n",
    "            \"requirements_files\": [Path(\"requirements.txt\")]\n",
    "        }],\n",
    "        \"flags\": combine_option_and_json_flags([]),\n",
    "    },\n",
    ")\n"
   ]
  },
  {
   "cell_type": "code",
   "execution_count": 30,
   "metadata": {},
   "outputs": [
    {
     "name": "stderr",
     "output_type": "stream",
     "text": [
      "Parsing dynamic metadata from pyproject.toml is not supported\n",
      "No project.version in pyproject.toml\n",
      "Could not resolve package version\n"
     ]
    },
    {
     "data": {
      "text/plain": [
       "RequestOutput(components=[Component(name='cachi2', purl='pkg:pypi/cachi2?vcs_url=git%2Bssh://git%40github.com/ben-alkov/cachi2.git%4080aecd8219eee22e1a6675f06d74889e9fbadb10', version=None, properties=[Property(name='cachi2:found_by', value='cachi2')], type='library'), Component(name='aiohttp', purl='pkg:pypi/aiohttp@3.8.5', version='3.8.5', properties=[Property(name='cachi2:found_by', value='cachi2')], type='library'), Component(name='aiohttp-retry', purl='pkg:pypi/aiohttp-retry@2.8.3', version='2.8.3', properties=[Property(name='cachi2:found_by', value='cachi2')], type='library'), Component(name='aiosignal', purl='pkg:pypi/aiosignal@1.3.1', version='1.3.1', properties=[Property(name='cachi2:found_by', value='cachi2')], type='library'), Component(name='async-timeout', purl='pkg:pypi/async-timeout@4.0.3', version='4.0.3', properties=[Property(name='cachi2:found_by', value='cachi2')], type='library'), Component(name='attrs', purl='pkg:pypi/attrs@23.1.0', version='23.1.0', properties=[Property(name='cachi2:found_by', value='cachi2')], type='library'), Component(name='backoff', purl='pkg:pypi/backoff@2.2.1', version='2.2.1', properties=[Property(name='cachi2:found_by', value='cachi2')], type='library'), Component(name='beautifulsoup4', purl='pkg:pypi/beautifulsoup4@4.12.2', version='4.12.2', properties=[Property(name='cachi2:found_by', value='cachi2')], type='library'), Component(name='certifi', purl='pkg:pypi/certifi@2023.7.22', version='2023.7.22', properties=[Property(name='cachi2:found_by', value='cachi2')], type='library'), Component(name='charset-normalizer', purl='pkg:pypi/charset-normalizer@3.2.0', version='3.2.0', properties=[Property(name='cachi2:found_by', value='cachi2')], type='library'), Component(name='click', purl='pkg:pypi/click@8.1.7', version='8.1.7', properties=[Property(name='cachi2:found_by', value='cachi2')], type='library'), Component(name='frozenlist', purl='pkg:pypi/frozenlist@1.4.0', version='1.4.0', properties=[Property(name='cachi2:found_by', value='cachi2')], type='library'), Component(name='gitdb', purl='pkg:pypi/gitdb@4.0.10', version='4.0.10', properties=[Property(name='cachi2:found_by', value='cachi2')], type='library'), Component(name='gitpython', purl='pkg:pypi/gitpython@3.1.34', version='3.1.34', properties=[Property(name='cachi2:found_by', value='cachi2')], type='library'), Component(name='idna', purl='pkg:pypi/idna@3.4', version='3.4', properties=[Property(name='cachi2:found_by', value='cachi2')], type='library'), Component(name='mailbits', purl='pkg:pypi/mailbits@0.2.1', version='0.2.1', properties=[Property(name='cachi2:found_by', value='cachi2')], type='library'), Component(name='multidict', purl='pkg:pypi/multidict@6.0.4', version='6.0.4', properties=[Property(name='cachi2:found_by', value='cachi2')], type='library'), Component(name='packageurl-python', purl='pkg:pypi/packageurl-python@0.11.2', version='0.11.2', properties=[Property(name='cachi2:found_by', value='cachi2')], type='library'), Component(name='packaging', purl='pkg:pypi/packaging@23.1', version='23.1', properties=[Property(name='cachi2:found_by', value='cachi2')], type='library'), Component(name='pydantic', purl='pkg:pypi/pydantic@1.10.9', version='1.10.9', properties=[Property(name='cachi2:found_by', value='cachi2')], type='library'), Component(name='pypi-simple', purl='pkg:pypi/pypi-simple@1.1.0', version='1.1.0', properties=[Property(name='cachi2:found_by', value='cachi2')], type='library'), Component(name='pyyaml', purl='pkg:pypi/pyyaml@6.0.1', version='6.0.1', properties=[Property(name='cachi2:found_by', value='cachi2')], type='library'), Component(name='requests', purl='pkg:pypi/requests@2.31.0', version='2.31.0', properties=[Property(name='cachi2:found_by', value='cachi2')], type='library'), Component(name='semver', purl='pkg:pypi/semver@3.0.1', version='3.0.1', properties=[Property(name='cachi2:found_by', value='cachi2')], type='library'), Component(name='smmap', purl='pkg:pypi/smmap@5.0.0', version='5.0.0', properties=[Property(name='cachi2:found_by', value='cachi2')], type='library'), Component(name='soupsieve', purl='pkg:pypi/soupsieve@2.5', version='2.5', properties=[Property(name='cachi2:found_by', value='cachi2')], type='library'), Component(name='tomli', purl='pkg:pypi/tomli@2.0.1', version='2.0.1', properties=[Property(name='cachi2:found_by', value='cachi2')], type='library'), Component(name='typer', purl='pkg:pypi/typer@0.9.0', version='0.9.0', properties=[Property(name='cachi2:found_by', value='cachi2')], type='library'), Component(name='typing-extensions', purl='pkg:pypi/typing-extensions@4.7.1', version='4.7.1', properties=[Property(name='cachi2:found_by', value='cachi2')], type='library'), Component(name='urllib3', purl='pkg:pypi/urllib3@2.0.4', version='2.0.4', properties=[Property(name='cachi2:found_by', value='cachi2')], type='library'), Component(name='yarl', purl='pkg:pypi/yarl@1.9.2', version='1.9.2', properties=[Property(name='cachi2:found_by', value='cachi2')], type='library'), Component(name='setuptools', purl='pkg:pypi/setuptools@68.1.2', version='68.1.2', properties=[Property(name='cachi2:found_by', value='cachi2')], type='library')], build_config=BuildConfig(environment_variables=[EnvironmentVariable(name='PIP_FIND_LINKS', value='deps/pip', kind='path'), EnvironmentVariable(name='PIP_NO_INDEX', value='true', kind='literal')], project_files=[]))"
      ]
     },
     "execution_count": 30,
     "metadata": {},
     "output_type": "execute_result"
    }
   ],
   "source": [
    "resolve_packages(req)\n"
   ]
  }
 ],
 "metadata": {
  "kernelspec": {
   "display_name": "venv",
   "language": "python",
   "name": "python3"
  },
  "language_info": {
   "codemirror_mode": {
    "name": "ipython",
    "version": 3
   },
   "file_extension": ".py",
   "mimetype": "text/x-python",
   "name": "python",
   "nbconvert_exporter": "python",
   "pygments_lexer": "ipython3",
   "version": "3.9.18"
  }
 },
 "nbformat": 4,
 "nbformat_minor": 2
}
